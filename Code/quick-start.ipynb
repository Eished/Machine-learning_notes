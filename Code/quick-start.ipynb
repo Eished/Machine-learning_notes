{
 "cells": [
  {
   "cell_type": "code",
   "execution_count": 1,
   "metadata": {},
   "outputs": [
    {
     "name": "stdout",
     "output_type": "stream",
     "text": [
      "2.4.2\n",
      "Running verify PaddlePaddle program ... \n"
     ]
    },
    {
     "name": "stderr",
     "output_type": "stream",
     "text": [
      "W0705 16:06:31.280854 29551 gpu_resources.cc:61] Please NOTE: device: 0, GPU Compute Capability: 5.2, Driver API Version: 12.1, Runtime API Version: 11.7\n",
      "W0705 16:06:31.333717 29551 gpu_resources.cc:91] device: 0, cuDNN Version: 8.4.\n"
     ]
    },
    {
     "name": "stdout",
     "output_type": "stream",
     "text": [
      "PaddlePaddle works well on 1 GPU.\n",
      "PaddlePaddle works well on 1 GPUs.\n",
      "PaddlePaddle is installed successfully! Let's start deep learning with PaddlePaddle now.\n"
     ]
    }
   ],
   "source": [
    "import paddle\n",
    "import paddle.nn.functional as F\n",
    "import numpy as np\n",
    "\n",
    "print(paddle.__version__)\n",
    "paddle.utils.run_check()"
   ]
  },
  {
   "cell_type": "code",
   "execution_count": 2,
   "metadata": {},
   "outputs": [
    {
     "name": "stdout",
     "output_type": "stream",
     "text": [
      "Tensor(shape=[4, 2], dtype=float32, place=Place(gpu:0), stop_gradient=True,\n",
      "       [[1., 2.],\n",
      "        [3., 4.],\n",
      "        [0., 0.],\n",
      "        [0., 0.]])\n",
      "Tensor(shape=[2], dtype=float32, place=Place(gpu:0), stop_gradient=True,\n",
      "       [1., 0.])\n",
      "Tensor(shape=[4, 2], dtype=float32, place=Place(gpu:0), stop_gradient=True,\n",
      "       [[9. , 2. ],\n",
      "        [3. , 19.],\n",
      "        [6. , 9. ],\n",
      "        [0. , 0. ]])\n",
      "Tensor(shape=[4], dtype=float32, place=Place(gpu:0), stop_gradient=True,\n",
      "       [1., 3., 0., 0.])\n"
     ]
    }
   ],
   "source": [
    "a = paddle.randn([4, 2])\n",
    "b = paddle.arange(1, 3, dtype='float32')\n",
    "\n",
    "print(a)\n",
    "print(b)\n",
    "\n",
    "c = a + b\n",
    "print(c)\n",
    "\n",
    "d = paddle.matmul(a, b)\n",
    "print(d)\n"
   ]
  }
 ],
 "metadata": {
  "kernelspec": {
   "display_name": "paddle_env",
   "language": "python",
   "name": "python3"
  },
  "language_info": {
   "codemirror_mode": {
    "name": "ipython",
    "version": 3
   },
   "file_extension": ".py",
   "mimetype": "text/x-python",
   "name": "python",
   "nbconvert_exporter": "python",
   "pygments_lexer": "ipython3",
   "version": "3.10.9"
  },
  "orig_nbformat": 4
 },
 "nbformat": 4,
 "nbformat_minor": 2
}
