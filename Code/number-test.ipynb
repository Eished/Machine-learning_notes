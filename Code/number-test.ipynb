{
 "cells": [
  {
   "cell_type": "code",
   "execution_count": 1,
   "metadata": {},
   "outputs": [
    {
     "name": "stderr",
     "output_type": "stream",
     "text": [
      "W0705 14:48:37.387300  6318 gpu_resources.cc:61] Please NOTE: device: 0, GPU Compute Capability: 5.2, Driver API Version: 12.1, Runtime API Version: 11.7\n",
      "W0705 14:48:37.400921  6318 gpu_resources.cc:91] device: 0, cuDNN Version: 8.4.\n"
     ]
    },
    {
     "name": "stdout",
     "output_type": "stream",
     "text": [
      "The loss value printed in the log is the current step, and the metric is the average value of previous steps.\n",
      "Epoch 1/5\n"
     ]
    },
    {
     "name": "stderr",
     "output_type": "stream",
     "text": [
      "/home/eis/anaconda3/envs/paddle_env/lib/python3.10/site-packages/paddle/fluid/dygraph/amp/auto_cast.py:328: UserWarning: For float16, amp only support NVIDIA GPU with Compute Capability 7.0 or higher, current GPU is: NVIDIA GeForce GTX 965M, with Compute Capability: 5.2.\n",
      "  warnings.warn(\n"
     ]
    },
    {
     "ename": "OSError",
     "evalue": "(External) CUDA error(98), invalid device function. \n  [Hint: Please search for the error code(98) on website (https://docs.nvidia.com/cuda/cuda-runtime-api/group__CUDART__TYPES.html#group__CUDART__TYPES_1g3f51e3575c2178246db0a94a430e0038) to get Nvidia's official solution and advice about CUDA Error.] (at /paddle/paddle/phi/kernels/gpu/argsort_kernel.cu:166)\n",
     "output_type": "error",
     "traceback": [
      "\u001b[0;31m---------------------------------------------------------------------------\u001b[0m",
      "\u001b[0;31mOSError\u001b[0m                                   Traceback (most recent call last)",
      "Cell \u001b[0;32mIn[1], line 20\u001b[0m\n\u001b[1;32m     15\u001b[0m model\u001b[39m.\u001b[39mprepare(paddle\u001b[39m.\u001b[39moptimizer\u001b[39m.\u001b[39mAdam(parameters\u001b[39m=\u001b[39mmodel\u001b[39m.\u001b[39mparameters()), \n\u001b[1;32m     16\u001b[0m               paddle\u001b[39m.\u001b[39mnn\u001b[39m.\u001b[39mCrossEntropyLoss(),\n\u001b[1;32m     17\u001b[0m               paddle\u001b[39m.\u001b[39mmetric\u001b[39m.\u001b[39mAccuracy())\n\u001b[1;32m     19\u001b[0m \u001b[39m# 模型训练\u001b[39;00m\n\u001b[0;32m---> 20\u001b[0m model\u001b[39m.\u001b[39;49mfit(train_dataset, epochs\u001b[39m=\u001b[39;49m\u001b[39m5\u001b[39;49m, batch_size\u001b[39m=\u001b[39;49m\u001b[39m64\u001b[39;49m, verbose\u001b[39m=\u001b[39;49m\u001b[39m1\u001b[39;49m)\n\u001b[1;32m     21\u001b[0m \u001b[39m# 模型评估\u001b[39;00m\n\u001b[1;32m     22\u001b[0m model\u001b[39m.\u001b[39mevaluate(test_dataset, batch_size\u001b[39m=\u001b[39m\u001b[39m64\u001b[39m, verbose\u001b[39m=\u001b[39m\u001b[39m1\u001b[39m)\n",
      "File \u001b[0;32m~/anaconda3/envs/paddle_env/lib/python3.10/site-packages/paddle/hapi/model.py:1929\u001b[0m, in \u001b[0;36mModel.fit\u001b[0;34m(self, train_data, eval_data, batch_size, epochs, eval_freq, log_freq, save_dir, save_freq, verbose, drop_last, shuffle, num_workers, callbacks, accumulate_grad_batches, num_iters)\u001b[0m\n\u001b[1;32m   1927\u001b[0m \u001b[39mfor\u001b[39;00m epoch \u001b[39min\u001b[39;00m \u001b[39mrange\u001b[39m(epochs):\n\u001b[1;32m   1928\u001b[0m     cbks\u001b[39m.\u001b[39mon_epoch_begin(epoch)\n\u001b[0;32m-> 1929\u001b[0m     logs \u001b[39m=\u001b[39m \u001b[39mself\u001b[39;49m\u001b[39m.\u001b[39;49m_run_one_epoch(train_loader, cbks, \u001b[39m'\u001b[39;49m\u001b[39mtrain\u001b[39;49m\u001b[39m'\u001b[39;49m)\n\u001b[1;32m   1930\u001b[0m     cbks\u001b[39m.\u001b[39mon_epoch_end(epoch, logs)\n\u001b[1;32m   1932\u001b[0m     \u001b[39mif\u001b[39;00m do_eval \u001b[39mand\u001b[39;00m epoch \u001b[39m%\u001b[39m eval_freq \u001b[39m==\u001b[39m \u001b[39m0\u001b[39m:\n",
      "File \u001b[0;32m~/anaconda3/envs/paddle_env/lib/python3.10/site-packages/paddle/hapi/model.py:2282\u001b[0m, in \u001b[0;36mModel._run_one_epoch\u001b[0;34m(self, data_loader, callbacks, mode, logs)\u001b[0m\n\u001b[1;32m   2276\u001b[0m \u001b[39mif\u001b[39;00m mode \u001b[39m==\u001b[39m \u001b[39m'\u001b[39m\u001b[39mtrain\u001b[39m\u001b[39m'\u001b[39m:\n\u001b[1;32m   2277\u001b[0m     _inputs\u001b[39m.\u001b[39mappend(\n\u001b[1;32m   2278\u001b[0m         (step \u001b[39m+\u001b[39m \u001b[39m1\u001b[39m) \u001b[39m%\u001b[39m \u001b[39mself\u001b[39m\u001b[39m.\u001b[39m_accumulate \u001b[39m==\u001b[39m \u001b[39m0\u001b[39m\n\u001b[1;32m   2279\u001b[0m         \u001b[39mor\u001b[39;00m step \u001b[39m+\u001b[39m \u001b[39m1\u001b[39m \u001b[39m==\u001b[39m \u001b[39mlen\u001b[39m(data_loader)\n\u001b[1;32m   2280\u001b[0m     )\n\u001b[0;32m-> 2282\u001b[0m outs \u001b[39m=\u001b[39m \u001b[39mgetattr\u001b[39;49m(\u001b[39mself\u001b[39;49m, mode \u001b[39m+\u001b[39;49m \u001b[39m'\u001b[39;49m\u001b[39m_batch\u001b[39;49m\u001b[39m'\u001b[39;49m)(\u001b[39m*\u001b[39;49m_inputs)\n\u001b[1;32m   2284\u001b[0m \u001b[39mif\u001b[39;00m \u001b[39mself\u001b[39m\u001b[39m.\u001b[39m_metrics \u001b[39mand\u001b[39;00m \u001b[39mself\u001b[39m\u001b[39m.\u001b[39m_loss:\n\u001b[1;32m   2285\u001b[0m     metrics \u001b[39m=\u001b[39m [[l[\u001b[39m0\u001b[39m] \u001b[39mfor\u001b[39;00m l \u001b[39min\u001b[39;00m outs[\u001b[39m0\u001b[39m]]]\n",
      "File \u001b[0;32m~/anaconda3/envs/paddle_env/lib/python3.10/site-packages/paddle/hapi/model.py:1207\u001b[0m, in \u001b[0;36mModel.train_batch\u001b[0;34m(self, inputs, labels, update)\u001b[0m\n\u001b[1;32m   1157\u001b[0m \u001b[39mdef\u001b[39;00m \u001b[39mtrain_batch\u001b[39m(\u001b[39mself\u001b[39m, inputs, labels\u001b[39m=\u001b[39m\u001b[39mNone\u001b[39;00m, update\u001b[39m=\u001b[39m\u001b[39mTrue\u001b[39;00m):\n\u001b[1;32m   1158\u001b[0m \u001b[39m    \u001b[39m\u001b[39m\"\"\"\u001b[39;00m\n\u001b[1;32m   1159\u001b[0m \n\u001b[1;32m   1160\u001b[0m \u001b[39m    Run one training step on one batch of data. And using `update` indicates\u001b[39;00m\n\u001b[0;32m   (...)\u001b[0m\n\u001b[1;32m   1205\u001b[0m \n\u001b[1;32m   1206\u001b[0m \u001b[39m    \"\"\"\u001b[39;00m\n\u001b[0;32m-> 1207\u001b[0m     loss \u001b[39m=\u001b[39m \u001b[39mself\u001b[39;49m\u001b[39m.\u001b[39;49m_adapter\u001b[39m.\u001b[39;49mtrain_batch(inputs, labels, update)\n\u001b[1;32m   1208\u001b[0m     \u001b[39mif\u001b[39;00m fluid\u001b[39m.\u001b[39m_non_static_mode() \u001b[39mand\u001b[39;00m \u001b[39mself\u001b[39m\u001b[39m.\u001b[39m_input_info \u001b[39mis\u001b[39;00m \u001b[39mNone\u001b[39;00m:\n\u001b[1;32m   1209\u001b[0m         \u001b[39mself\u001b[39m\u001b[39m.\u001b[39m_update_inputs()\n",
      "File \u001b[0;32m~/anaconda3/envs/paddle_env/lib/python3.10/site-packages/paddle/hapi/model.py:826\u001b[0m, in \u001b[0;36mDynamicGraphAdapter.train_batch\u001b[0;34m(self, inputs, labels, update)\u001b[0m\n\u001b[1;32m    824\u001b[0m metrics \u001b[39m=\u001b[39m []\n\u001b[1;32m    825\u001b[0m \u001b[39mfor\u001b[39;00m metric \u001b[39min\u001b[39;00m \u001b[39mself\u001b[39m\u001b[39m.\u001b[39mmodel\u001b[39m.\u001b[39m_metrics:\n\u001b[0;32m--> 826\u001b[0m     metric_outs \u001b[39m=\u001b[39m metric\u001b[39m.\u001b[39;49mcompute(\u001b[39m*\u001b[39;49m(to_list(outputs) \u001b[39m+\u001b[39;49m labels))\n\u001b[1;32m    827\u001b[0m     m \u001b[39m=\u001b[39m metric\u001b[39m.\u001b[39mupdate(\u001b[39m*\u001b[39m[to_numpy(m) \u001b[39mfor\u001b[39;00m m \u001b[39min\u001b[39;00m to_list(metric_outs)])\n\u001b[1;32m    828\u001b[0m     metrics\u001b[39m.\u001b[39mappend(m)\n",
      "File \u001b[0;32m~/anaconda3/envs/paddle_env/lib/python3.10/site-packages/paddle/metric/metrics.py:261\u001b[0m, in \u001b[0;36mAccuracy.compute\u001b[0;34m(self, pred, label, *args)\u001b[0m\n\u001b[1;32m    247\u001b[0m \u001b[39mdef\u001b[39;00m \u001b[39mcompute\u001b[39m(\u001b[39mself\u001b[39m, pred, label, \u001b[39m*\u001b[39margs):\n\u001b[1;32m    248\u001b[0m \u001b[39m    \u001b[39m\u001b[39m\"\"\"\u001b[39;00m\n\u001b[1;32m    249\u001b[0m \u001b[39m    Compute the top-k (maximum value in `topk`) indices.\u001b[39;00m\n\u001b[1;32m    250\u001b[0m \n\u001b[0;32m   (...)\u001b[0m\n\u001b[1;32m    259\u001b[0m \u001b[39m        Tensor: Correct mask, a tensor with shape [batch_size, d0, ..., topk].\u001b[39;00m\n\u001b[1;32m    260\u001b[0m \u001b[39m    \"\"\"\u001b[39;00m\n\u001b[0;32m--> 261\u001b[0m     pred \u001b[39m=\u001b[39m paddle\u001b[39m.\u001b[39;49margsort(pred, descending\u001b[39m=\u001b[39;49m\u001b[39mTrue\u001b[39;49;00m)\n\u001b[1;32m    262\u001b[0m     pred \u001b[39m=\u001b[39m paddle\u001b[39m.\u001b[39mslice(pred,\n\u001b[1;32m    263\u001b[0m                         axes\u001b[39m=\u001b[39m[\u001b[39mlen\u001b[39m(pred\u001b[39m.\u001b[39mshape) \u001b[39m-\u001b[39m \u001b[39m1\u001b[39m],\n\u001b[1;32m    264\u001b[0m                         starts\u001b[39m=\u001b[39m[\u001b[39m0\u001b[39m],\n\u001b[1;32m    265\u001b[0m                         ends\u001b[39m=\u001b[39m[\u001b[39mself\u001b[39m\u001b[39m.\u001b[39mmaxk])\n\u001b[1;32m    266\u001b[0m     \u001b[39mif\u001b[39;00m (\u001b[39mlen\u001b[39m(label\u001b[39m.\u001b[39mshape) \u001b[39m==\u001b[39m \u001b[39m1\u001b[39m) \u001b[39mor\u001b[39;00m \\\n\u001b[1;32m    267\u001b[0m        (\u001b[39mlen\u001b[39m(label\u001b[39m.\u001b[39mshape) \u001b[39m==\u001b[39m \u001b[39m2\u001b[39m \u001b[39mand\u001b[39;00m label\u001b[39m.\u001b[39mshape[\u001b[39m-\u001b[39m\u001b[39m1\u001b[39m] \u001b[39m==\u001b[39m \u001b[39m1\u001b[39m):\n\u001b[1;32m    268\u001b[0m         \u001b[39m# In static mode, the real label data shape may be different\u001b[39;00m\n\u001b[1;32m    269\u001b[0m         \u001b[39m# from shape defined by paddle.static.InputSpec in model\u001b[39;00m\n\u001b[1;32m    270\u001b[0m         \u001b[39m# building, reshape to the right shape.\u001b[39;00m\n",
      "File \u001b[0;32m~/anaconda3/envs/paddle_env/lib/python3.10/site-packages/paddle/tensor/search.py:96\u001b[0m, in \u001b[0;36margsort\u001b[0;34m(x, axis, descending, name)\u001b[0m\n\u001b[1;32m     36\u001b[0m \u001b[39m\u001b[39m\u001b[39m\"\"\"\u001b[39;00m\n\u001b[1;32m     37\u001b[0m \u001b[39mSorts the input along the given axis, and returns the corresponding index tensor for the sorted output values. The default sort algorithm is ascending, if you want the sort algorithm to be descending, you must set the :attr:`descending` as True.\u001b[39;00m\n\u001b[1;32m     38\u001b[0m \n\u001b[0;32m   (...)\u001b[0m\n\u001b[1;32m     93\u001b[0m \u001b[39m        #  [0 2 1 1]]]\u001b[39;00m\n\u001b[1;32m     94\u001b[0m \u001b[39m\"\"\"\u001b[39;00m\n\u001b[1;32m     95\u001b[0m \u001b[39mif\u001b[39;00m in_dygraph_mode():\n\u001b[0;32m---> 96\u001b[0m     _, ids \u001b[39m=\u001b[39m _C_ops\u001b[39m.\u001b[39;49margsort(x, axis, descending)\n\u001b[1;32m     97\u001b[0m     \u001b[39mreturn\u001b[39;00m ids\n\u001b[1;32m     99\u001b[0m \u001b[39mif\u001b[39;00m _in_legacy_dygraph():\n",
      "\u001b[0;31mOSError\u001b[0m: (External) CUDA error(98), invalid device function. \n  [Hint: Please search for the error code(98) on website (https://docs.nvidia.com/cuda/cuda-runtime-api/group__CUDART__TYPES.html#group__CUDART__TYPES_1g3f51e3575c2178246db0a94a430e0038) to get Nvidia's official solution and advice about CUDA Error.] (at /paddle/paddle/phi/kernels/gpu/argsort_kernel.cu:166)\n"
     ]
    }
   ],
   "source": [
    "import paddle\n",
    "import numpy as np\n",
    "from paddle.vision.transforms import Normalize\n",
    "\n",
    "transform = Normalize(mean=[127.5], std=[127.5], data_format='CHW')\n",
    "# 下载数据集并初始化 DataSet\n",
    "train_dataset = paddle.vision.datasets.MNIST(mode='train', transform=transform)\n",
    "test_dataset = paddle.vision.datasets.MNIST(mode='test', transform=transform)\n",
    "\n",
    "# 模型组网并初始化网络\n",
    "lenet = paddle.vision.models.LeNet(num_classes=10)\n",
    "model = paddle.Model(lenet)\n",
    "\n",
    "# 模型训练的配置准备，准备损失函数，优化器和评价指标\n",
    "model.prepare(paddle.optimizer.Adam(parameters=model.parameters()), \n",
    "              paddle.nn.CrossEntropyLoss(),\n",
    "              paddle.metric.Accuracy())\n",
    "\n",
    "# 模型训练\n",
    "model.fit(train_dataset, epochs=5, batch_size=64, verbose=1)\n",
    "# 模型评估\n",
    "model.evaluate(test_dataset, batch_size=64, verbose=1)\n",
    "\n",
    "# 保存模型\n",
    "model.save('./output/mnist')\n",
    "# 加载模型\n",
    "model.load('output/mnist')\n",
    "\n",
    "# 从测试集中取出一张图片\n",
    "img, label = test_dataset[0]\n",
    "# 将图片shape从1*28*28变为1*1*28*28，增加一个batch维度，以匹配模型输入格式要求\n",
    "img_batch = np.expand_dims(img.astype('float32'), axis=0)\n",
    "\n",
    "# 执行推理并打印结果，此处predict_batch返回的是一个list，取出其中数据获得预测结果\n",
    "out = model.predict_batch(img_batch)[0]\n",
    "pred_label = out.argmax()\n",
    "print('true label: {}, pred label: {}'.format(label[0], pred_label))\n",
    "# 可视化图片\n",
    "from matplotlib import pyplot as plt\n",
    "plt.imshow(img[0])\n"
   ]
  }
 ],
 "metadata": {
  "kernelspec": {
   "display_name": "paddle_env",
   "language": "python",
   "name": "python3"
  },
  "language_info": {
   "codemirror_mode": {
    "name": "ipython",
    "version": 3
   },
   "file_extension": ".py",
   "mimetype": "text/x-python",
   "name": "python",
   "nbconvert_exporter": "python",
   "pygments_lexer": "ipython3",
   "version": "3.10.9"
  },
  "orig_nbformat": 4
 },
 "nbformat": 4,
 "nbformat_minor": 2
}
