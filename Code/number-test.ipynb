{
 "cells": [
  {
   "cell_type": "code",
   "execution_count": 1,
   "metadata": {},
   "outputs": [
    {
     "name": "stdout",
     "output_type": "stream",
     "text": [
      "The loss value printed in the log is the current step, and the metric is the average value of previous steps.\n",
      "Epoch 1/5\n",
      "step 938/938 [==============================] - loss: 0.0171 - acc: 0.9353 - 25ms/step          \n",
      "Epoch 2/5\n",
      "step 938/938 [==============================] - loss: 0.0409 - acc: 0.9764 - 26ms/step          \n",
      "Epoch 3/5\n",
      "step 938/938 [==============================] - loss: 0.0039 - acc: 0.9809 - 25ms/step          \n",
      "Epoch 4/5\n",
      "step 938/938 [==============================] - loss: 0.0037 - acc: 0.9829 - 25ms/step          \n",
      "Epoch 5/5\n",
      "step 938/938 [==============================] - loss: 0.0347 - acc: 0.9853 - 25ms/step          \n",
      "Eval begin...\n",
      "step 157/157 [==============================] - loss: 6.4859e-04 - acc: 0.9807 - 11ms/step        \n",
      "Eval samples: 10000\n",
      "true label: 7, pred label: 7\n"
     ]
    },
    {
     "data": {
      "text/plain": [
       "<matplotlib.image.AxesImage at 0x7fdc60772800>"
      ]
     },
     "execution_count": 1,
     "metadata": {},
     "output_type": "execute_result"
    },
    {
     "data": {
      "image/png": "[encoded data removed]",
      "text/plain": [
       "<Figure size 640x480 with 1 Axes>"
      ]
     },
     "metadata": {},
     "output_type": "display_data"
    }
   ],
   "source": [
    "import paddle\n",
    "import numpy as np\n",
    "from paddle.vision.transforms import Normalize\n",
    "\n",
    "transform = Normalize(mean=[127.5], std=[127.5], data_format='CHW')\n",
    "# 下载数据集并初始化 DataSet\n",
    "train_dataset = paddle.vision.datasets.MNIST(mode='train', transform=transform)\n",
    "test_dataset = paddle.vision.datasets.MNIST(mode='test', transform=transform)\n",
    "\n",
    "# 模型组网并初始化网络\n",
    "lenet = paddle.vision.models.LeNet(num_classes=10)\n",
    "model = paddle.Model(lenet)\n",
    "\n",
    "# 模型训练的配置准备，准备损失函数，优化器和评价指标\n",
    "model.prepare(paddle.optimizer.Adam(parameters=model.parameters()), \n",
    "              paddle.nn.CrossEntropyLoss(),\n",
    "              paddle.metric.Accuracy())\n",
    "\n",
    "# 模型训练\n",
    "model.fit(train_dataset, epochs=5, batch_size=64, verbose=1)\n",
    "# 模型评估\n",
    "model.evaluate(test_dataset, batch_size=64, verbose=1)\n",
    "\n",
    "# 保存模型\n",
    "model.save('./output/mnist')\n",
    "# 加载模型\n",
    "model.load('output/mnist')\n",
    "\n",
    "# 从测试集中取出一张图片\n",
    "img, label = test_dataset[0]\n",
    "# 将图片shape从1*28*28变为1*1*28*28，增加一个batch维度，以匹配模型输入格式要求\n",
    "img_batch = np.expand_dims(img.astype('float32'), axis=0)\n",
    "\n",
    "# 执行推理并打印结果，此处predict_batch返回的是一个list，取出其中数据获得预测结果\n",
    "out = model.predict_batch(img_batch)[0]\n",
    "pred_label = out.argmax()\n",
    "print('true label: {}, pred label: {}'.format(label[0], pred_label))\n",
    "# 可视化图片\n",
    "from matplotlib import pyplot as plt\n",
    "plt.imshow(img[0])\n"
   ]
  },
  {
   "cell_type": "code",
   "execution_count": 3,
   "metadata": {},
   "outputs": [
    {
     "name": "stdout",
     "output_type": "stream",
     "text": [
      "60000 images in train_dataset, 10000 images in test_dataset\n"
     ]
    }
   ],
   "source": [
    "import paddle\n",
    "from paddle.vision.transforms import Normalize\n",
    "\n",
    "transform = Normalize(mean=[127.5], std=[127.5], data_format='CHW')\n",
    "# 下载数据集并初始化 DataSet\n",
    "train_dataset = paddle.vision.datasets.MNIST(mode='train', transform=transform)\n",
    "test_dataset = paddle.vision.datasets.MNIST(mode='test', transform=transform)\n",
    "\n",
    "# 打印数据集里图片数量\n",
    "print('{} images in train_dataset, {} images in test_dataset'.format(len(train_dataset), len(test_dataset)))\n"
   ]
  },
  {
   "cell_type": "code",
   "execution_count": 4,
   "metadata": {},
   "outputs": [
    {
     "name": "stdout",
     "output_type": "stream",
     "text": [
      "---------------------------------------------------------------------------\n",
      " Layer (type)       Input Shape          Output Shape         Param #    \n",
      "===========================================================================\n",
      "   Conv2D-3       [[1, 1, 28, 28]]      [1, 6, 28, 28]          60       \n",
      "    ReLU-3        [[1, 6, 28, 28]]      [1, 6, 28, 28]           0       \n",
      "  MaxPool2D-3     [[1, 6, 28, 28]]      [1, 6, 14, 14]           0       \n",
      "   Conv2D-4       [[1, 6, 14, 14]]     [1, 16, 10, 10]         2,416     \n",
      "    ReLU-4       [[1, 16, 10, 10]]     [1, 16, 10, 10]           0       \n",
      "  MaxPool2D-4    [[1, 16, 10, 10]]      [1, 16, 5, 5]            0       \n",
      "   Linear-4          [[1, 400]]            [1, 120]           48,120     \n",
      "   Linear-5          [[1, 120]]            [1, 84]            10,164     \n",
      "   Linear-6          [[1, 84]]             [1, 10]              850      \n",
      "===========================================================================\n",
      "Total params: 61,610\n",
      "Trainable params: 61,610\n",
      "Non-trainable params: 0\n",
      "---------------------------------------------------------------------------\n",
      "Input size (MB): 0.00\n",
      "Forward/backward pass size (MB): 0.11\n",
      "Params size (MB): 0.24\n",
      "Estimated Total Size (MB): 0.35\n",
      "---------------------------------------------------------------------------\n",
      "\n"
     ]
    },
    {
     "data": {
      "text/plain": [
       "{'total_params': 61610, 'trainable_params': 61610}"
      ]
     },
     "execution_count": 4,
     "metadata": {},
     "output_type": "execute_result"
    }
   ],
   "source": [
    "# 模型组网并初始化网络\n",
    "lenet = paddle.vision.models.LeNet(num_classes=10)\n",
    "\n",
    "# 可视化模型组网结构和参数\n",
    "paddle.summary(lenet,(1, 1, 28, 28))\n"
   ]
  },
  {
   "cell_type": "code",
   "execution_count": 5,
   "metadata": {},
   "outputs": [
    {
     "name": "stdout",
     "output_type": "stream",
     "text": [
      "The loss value printed in the log is the current step, and the metric is the average value of previous steps.\n",
      "Epoch 1/5\n",
      "step 938/938 [==============================] - loss: 0.0228 - acc: 0.9385 - 28ms/step          \n",
      "Epoch 2/5\n",
      "step 938/938 [==============================] - loss: 0.0099 - acc: 0.9767 - 28ms/step          \n",
      "Epoch 3/5\n",
      "step 938/938 [==============================] - loss: 0.0313 - acc: 0.9810 - 26ms/step          \n",
      "Epoch 4/5\n",
      "step 938/938 [==============================] - loss: 0.0253 - acc: 0.9832 - 27ms/step          \n",
      "Epoch 5/5\n",
      "step 938/938 [==============================] - loss: 0.0688 - acc: 0.9851 - 26ms/step          \n"
     ]
    }
   ],
   "source": [
    "# 封装模型，便于进行后续的训练、评估和推理\n",
    "model = paddle.Model(lenet)\n",
    "\n",
    "# 模型训练的配置准备，准备损失函数，优化器和评价指标\n",
    "model.prepare(paddle.optimizer.Adam(parameters=model.parameters()), \n",
    "              paddle.nn.CrossEntropyLoss(),\n",
    "              paddle.metric.Accuracy())\n",
    "\n",
    "# 开始训练\n",
    "model.fit(train_dataset, epochs=5, batch_size=64, verbose=1)\n"
   ]
  },
  {
   "cell_type": "code",
   "execution_count": 6,
   "metadata": {},
   "outputs": [
    {
     "name": "stdout",
     "output_type": "stream",
     "text": [
      "Eval begin...\n",
      "step 157/157 [==============================] - loss: 0.0018 - acc: 0.9792 - 12ms/step          \n",
      "Eval samples: 10000\n"
     ]
    },
    {
     "data": {
      "text/plain": [
       "{'loss': [0.001784072], 'acc': 0.9792}"
      ]
     },
     "execution_count": 6,
     "metadata": {},
     "output_type": "execute_result"
    }
   ],
   "source": [
    "# 进行模型评估\n",
    "model.evaluate(test_dataset, batch_size=64, verbose=1)\n"
   ]
  },
  {
   "cell_type": "code",
   "execution_count": 7,
   "metadata": {},
   "outputs": [],
   "source": [
    "# 保存模型，文件夹会自动创建\n",
    "model.save('./output/mnist')\n"
   ]
  },
  {
   "cell_type": "code",
   "execution_count": 8,
   "metadata": {},
   "outputs": [
    {
     "name": "stdout",
     "output_type": "stream",
     "text": [
      "true label: 7, pred label: 7\n"
     ]
    },
    {
     "data": {
      "text/plain": [
       "<matplotlib.image.AxesImage at 0x7fdcbc682350>"
      ]
     },
     "execution_count": 8,
     "metadata": {},
     "output_type": "execute_result"
    },
    {
     "data": {
      "image/png": "[encoded data removed]",
      "text/plain": [
       "<Figure size 640x480 with 1 Axes>"
      ]
     },
     "metadata": {},
     "output_type": "display_data"
    }
   ],
   "source": [
    "# 加载模型\n",
    "model.load('output/mnist')\n",
    "\n",
    "# 从测试集中取出一张图片\n",
    "img, label = test_dataset[0]\n",
    "# 将图片shape从1*28*28变为1*1*28*28，增加一个batch维度，以匹配模型输入格式要求\n",
    "img_batch = np.expand_dims(img.astype('float32'), axis=0)\n",
    "\n",
    "# 执行推理并打印结果，此处predict_batch返回的是一个list，取出其中数据获得预测结果\n",
    "out = model.predict_batch(img_batch)[0]\n",
    "pred_label = out.argmax()\n",
    "print('true label: {}, pred label: {}'.format(label[0], pred_label))\n",
    "# 可视化图片\n",
    "from matplotlib import pyplot as plt\n",
    "plt.imshow(img[0])\n"
   ]
  }
 ],
 "metadata": {
  "kernelspec": {
   "display_name": "paddle_env",
   "language": "python",
   "name": "python3"
  },
  "language_info": {
   "codemirror_mode": {
    "name": "ipython",
    "version": 3
   },
   "file_extension": ".py",
   "mimetype": "text/x-python",
   "name": "python",
   "nbconvert_exporter": "python",
   "pygments_lexer": "ipython3",
   "version": "3.10.9"
  },
  "orig_nbformat": 4
 },
 "nbformat": 4,
 "nbformat_minor": 2
}
